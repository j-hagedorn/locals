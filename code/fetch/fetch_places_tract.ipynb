{
 "cells": [
  {
   "cell_type": "code",
   "execution_count": 1,
   "metadata": {},
   "outputs": [],
   "source": [
    "import pandas as pd\n",
    "from sodapy import Socrata\n",
    "import sqlalchemy as sa\n",
    "from dotenv import load_dotenv\n",
    "import os\n",
    "load_dotenv()\n",
    "\n",
    "# Set working directory\n",
    "os.chdir('../../')\n",
    "os.getcwd()\n",
    "\n",
    "server = os.getenv('tbd_server_address')\n",
    "db = 'locals'\n",
    "un =os.getenv('tbd_server_uid')\n",
    "pw = os.getenv('tbd_server_pw')"
   ]
  },
  {
   "cell_type": "code",
   "execution_count": 3,
   "metadata": {},
   "outputs": [
    {
     "name": "stderr",
     "output_type": "stream",
     "text": [
      "WARNING:root:Requests made without an app_token will be subject to strict throttling limits.\n"
     ]
    }
   ],
   "source": [
    "# Unauthenticated client only works with public data sets. Note 'None'\n",
    "# in place of application token, and no username or password:\n",
    "client = Socrata(\"chronicdata.cdc.gov\", None)\n",
    "\n",
    "# cwsq-ngmh is the tract data source, returned as JSON from API, and converted to Python list of\n",
    "# dictionaries by sodapy.\n",
    "results = client.get(\"cwsq-ngmh\", limit=2125561)\n",
    "\n",
    "# Convert to pandas DataFrame\n",
    "results_df = pd.DataFrame.from_records(results)"
   ]
  },
  {
   "cell_type": "code",
   "execution_count": 4,
   "metadata": {},
   "outputs": [],
   "source": [
    "# Select variables and columns of interest\n",
    "key_vars = [\n",
    "'Physical health not good for >=14 days among adults aged >=18 years',\n",
    "'Fair or poor self-rated health status among adults aged >=18 years',\n",
    "'Current smoking among adults aged >=18 years',\n",
    "'Obesity among adults aged >=18 years',\n",
    "'Diagnosed diabetes among adults aged >=18 years',\n",
    "'Depression among adults aged >=18 years',\n",
    "'Mental health not good for >=14 days among adults aged >=18 years',\n",
    "'Stroke among adults aged >=18 years']\n",
    "\n",
    "column_names = ['year','datasource','locationname','short_question_text','measure','data_value']\n",
    "\n",
    "# Select data for the latest year\n",
    "latest_year = results_df['year'].astype('int').max().astype('str')\n",
    "\n",
    "# Apply filters and formats\n",
    "df = (results_df[(results_df['year'] == latest_year) & (results_df['measure'].isin(key_vars))]\n",
    ".loc[:,column_names]\n",
    ".rename(columns ={\n",
    "    'locationname':'tract', \n",
    "    'datasource':'source',\n",
    "    'data_value':'value',\n",
    "    'short_question_text':'var_short_name',\n",
    "    'measure':'var_name'})\n",
    ".assign(variable = lambda df: df.var_name)\n",
    ".reindex(columns = ['source','year','tract','var_short_name','value','var_name','variable'])\n",
    ".reset_index(drop=True)\n",
    ")\n"
   ]
  },
  {
   "cell_type": "code",
   "execution_count": 5,
   "metadata": {},
   "outputs": [],
   "source": [
    "conn_string = \"mssql+pyodbc://\"+un+\":\"+pw+\"@\"+server+\":1433/\"+db+\"?driver=ODBC+Driver+17+for+SQL+Server\"\n"
   ]
  },
  {
   "cell_type": "code",
   "execution_count": 6,
   "metadata": {},
   "outputs": [
    {
     "data": {
      "text/plain": [
       "-1"
      ]
     },
     "execution_count": 6,
     "metadata": {},
     "output_type": "execute_result"
    }
   ],
   "source": [
    "# Export to server\n",
    "conn_string = \"mssql+pyodbc://\"+un+\":\"+pw+\"@\"+server+\":1433/\"+db+\"?driver=ODBC+Driver+17+for+SQL+Server\"\n",
    "\n",
    "ms_sql_engine = sa.create_engine(conn_string,\n",
    "                           fast_executemany = True)\n",
    "\n",
    "df.to_sql('tracts',con = ms_sql_engine, index = False, if_exists= 'append')"
   ]
  }
 ],
 "metadata": {
  "kernelspec": {
   "display_name": "Python 3.9.7 ('base')",
   "language": "python",
   "name": "python3"
  },
  "language_info": {
   "codemirror_mode": {
    "name": "ipython",
    "version": 3
   },
   "file_extension": ".py",
   "mimetype": "text/x-python",
   "name": "python",
   "nbconvert_exporter": "python",
   "pygments_lexer": "ipython3",
   "version": "3.9.7"
  },
  "orig_nbformat": 4,
  "vscode": {
   "interpreter": {
    "hash": "546ebbf816319fbb82c42f76e4c67a931abb4f46f37a07d0e53c09751c9282e4"
   }
  }
 },
 "nbformat": 4,
 "nbformat_minor": 2
}
